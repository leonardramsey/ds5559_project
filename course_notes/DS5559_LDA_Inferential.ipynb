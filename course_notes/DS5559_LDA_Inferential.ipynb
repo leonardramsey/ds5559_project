{
 "cells": [
  {
   "cell_type": "markdown",
   "metadata": {},
   "source": [
    "# Synopsis\n",
    "\n",
    "Create an LDA topic model from scratch using collapsed Gibbs Sampling. This notebook demonstrates the values of\n",
    "* Using TFIDF to preprocess tokens\n",
    "* Using distinct words degrades performance"
   ]
  },
  {
   "cell_type": "markdown",
   "metadata": {},
   "source": [
    "# Configuration"
   ]
  },
  {
   "cell_type": "code",
   "execution_count": 1,
   "metadata": {},
   "outputs": [],
   "source": [
    "src_file = '20news_01.csv'"
   ]
  },
  {
   "cell_type": "code",
   "execution_count": 2,
   "metadata": {},
   "outputs": [],
   "source": [
    "n_docs = 100\n",
    "n_topics = 15\n",
    "n_iters = 100\n",
    "alpha = 1\n",
    "beta = 1"
   ]
  },
  {
   "cell_type": "markdown",
   "metadata": {},
   "source": [
    "# Libraries"
   ]
  },
  {
   "cell_type": "code",
   "execution_count": 3,
   "metadata": {},
   "outputs": [],
   "source": [
    "import pandas as pd\n",
    "import numpy as np\n",
    "import sqlite3\n",
    "import re\n",
    "import random\n",
    "import textman as tx\n",
    "from sklearn.feature_extraction.text import TfidfVectorizer\n",
    "import matplotlib.pyplot as plt"
   ]
  },
  {
   "cell_type": "markdown",
   "metadata": {},
   "source": [
    "# Pragmas"
   ]
  },
  {
   "cell_type": "code",
   "execution_count": 4,
   "metadata": {},
   "outputs": [],
   "source": [
    "%matplotlib inline"
   ]
  },
  {
   "cell_type": "markdown",
   "metadata": {
    "toc-hr-collapsed": false
   },
   "source": [
    "# Process"
   ]
  },
  {
   "cell_type": "markdown",
   "metadata": {},
   "source": [
    "## Get corpus from database\n",
    "\n",
    "Grab an sample from the 20news corpus, which was generated from the SQLite database using the following query:\n",
    "```sql\n",
    "SELECT * \n",
    "FROM doc \n",
    "WHERE doc_label LIKE '%christian%' \n",
    "    OR doc_label LIKE '%baseball%' \n",
    "    OR doc_label LIKE '%politics%' \n",
    "    OR doc_label LIKE '%hardware%'\n",
    "    OR doc_label LIKE '%hockey%'\n",
    "ORDER BY RANDOM() \n",
    "LIMIT 100\n",
    "```"
   ]
  },
  {
   "cell_type": "code",
   "execution_count": 5,
   "metadata": {},
   "outputs": [],
   "source": [
    "docs = pd.read_csv(src_file, sep='\\t')\n",
    "docs = docs.set_index('doc_id')"
   ]
  },
  {
   "cell_type": "code",
   "execution_count": 6,
   "metadata": {},
   "outputs": [
    {
     "data": {
      "text/html": [
       "<div>\n",
       "<style scoped>\n",
       "    .dataframe tbody tr th:only-of-type {\n",
       "        vertical-align: middle;\n",
       "    }\n",
       "\n",
       "    .dataframe tbody tr th {\n",
       "        vertical-align: top;\n",
       "    }\n",
       "\n",
       "    .dataframe thead th {\n",
       "        text-align: right;\n",
       "    }\n",
       "</style>\n",
       "<table border=\"1\" class=\"dataframe\">\n",
       "  <thead>\n",
       "    <tr style=\"text-align: right;\">\n",
       "      <th></th>\n",
       "      <th>doc_label</th>\n",
       "      <th>doc_from</th>\n",
       "      <th>doc_subject</th>\n",
       "      <th>doc_content</th>\n",
       "    </tr>\n",
       "    <tr>\n",
       "      <th>doc_id</th>\n",
       "      <th></th>\n",
       "      <th></th>\n",
       "      <th></th>\n",
       "      <th></th>\n",
       "    </tr>\n",
       "  </thead>\n",
       "  <tbody>\n",
       "    <tr>\n",
       "      <th>76209</th>\n",
       "      <td>talk.politics.mideast</td>\n",
       "      <td>jaa12@cunixa.cc.columbia.edu (John A Absood)\\n</td>\n",
       "      <td>Re: Hamza Salah, the Humanist\\n</td>\n",
       "      <td>\\nAre you people sure his posts are being forw...</td>\n",
       "    </tr>\n",
       "    <tr>\n",
       "      <th>51708</th>\n",
       "      <td>comp.sys.mac.hardware</td>\n",
       "      <td>ray@netcom.com (Ray Fischer)\\n</td>\n",
       "      <td>Re: x86 ~= 680x0 ??  (How do they compare?)\\n</td>\n",
       "      <td>\\ndhk@ubbpc.uucp (Dave Kitabjian) writes ...\\n...</td>\n",
       "    </tr>\n",
       "    <tr>\n",
       "      <th>60206</th>\n",
       "      <td>comp.sys.ibm.pc.hardware</td>\n",
       "      <td>tiger@netcom.com (Tiger Zhao)\\n</td>\n",
       "      <td>Re: BusLogic 542B questions\\n</td>\n",
       "      <td>\\ngoyal@utdallas.edu (MOHIT K GOYAL) writes:\\n...</td>\n",
       "    </tr>\n",
       "    <tr>\n",
       "      <th>54119</th>\n",
       "      <td>rec.sport.hockey</td>\n",
       "      <td>malinich@bucknell.edu (Tom Malinich)\\n</td>\n",
       "      <td>Montreal Canadiens\\n</td>\n",
       "      <td>\\nAre there any Montreal Canadiens fans out th...</td>\n",
       "    </tr>\n",
       "    <tr>\n",
       "      <th>55086</th>\n",
       "      <td>talk.politics.guns</td>\n",
       "      <td>jmd@cube.handheld.com (Jim De Arras)\\n</td>\n",
       "      <td>Re: CLINTON JOINS LIST OF GENOCIDAL SOCIALIST ...</td>\n",
       "      <td>\\nIn article &lt;16BB88F6D.R1328@vmcms.csuohio.ed...</td>\n",
       "    </tr>\n",
       "  </tbody>\n",
       "</table>\n",
       "</div>"
      ],
      "text/plain": [
       "                       doc_label  \\\n",
       "doc_id                             \n",
       "76209      talk.politics.mideast   \n",
       "51708      comp.sys.mac.hardware   \n",
       "60206   comp.sys.ibm.pc.hardware   \n",
       "54119           rec.sport.hockey   \n",
       "55086         talk.politics.guns   \n",
       "\n",
       "                                              doc_from  \\\n",
       "doc_id                                                   \n",
       "76209   jaa12@cunixa.cc.columbia.edu (John A Absood)\\n   \n",
       "51708                   ray@netcom.com (Ray Fischer)\\n   \n",
       "60206                  tiger@netcom.com (Tiger Zhao)\\n   \n",
       "54119           malinich@bucknell.edu (Tom Malinich)\\n   \n",
       "55086           jmd@cube.handheld.com (Jim De Arras)\\n   \n",
       "\n",
       "                                              doc_subject  \\\n",
       "doc_id                                                      \n",
       "76209                     Re: Hamza Salah, the Humanist\\n   \n",
       "51708       Re: x86 ~= 680x0 ??  (How do they compare?)\\n   \n",
       "60206                       Re: BusLogic 542B questions\\n   \n",
       "54119                                Montreal Canadiens\\n   \n",
       "55086   Re: CLINTON JOINS LIST OF GENOCIDAL SOCIALIST ...   \n",
       "\n",
       "                                              doc_content  \n",
       "doc_id                                                     \n",
       "76209   \\nAre you people sure his posts are being forw...  \n",
       "51708   \\ndhk@ubbpc.uucp (Dave Kitabjian) writes ...\\n...  \n",
       "60206   \\ngoyal@utdallas.edu (MOHIT K GOYAL) writes:\\n...  \n",
       "54119   \\nAre there any Montreal Canadiens fans out th...  \n",
       "55086   \\nIn article <16BB88F6D.R1328@vmcms.csuohio.ed...  "
      ]
     },
     "execution_count": 6,
     "metadata": {},
     "output_type": "execute_result"
    }
   ],
   "source": [
    "docs.head()"
   ]
  },
  {
   "cell_type": "markdown",
   "metadata": {},
   "source": [
    "### Show labels\n",
    "\n",
    "Get a sense of what the corpus is about."
   ]
  },
  {
   "cell_type": "code",
   "execution_count": 7,
   "metadata": {},
   "outputs": [],
   "source": [
    "# docs.doc_label.value_counts()"
   ]
  },
  {
   "cell_type": "markdown",
   "metadata": {
    "toc-hr-collapsed": false
   },
   "source": [
    "## Convert corpus to tokens and vocab\n",
    "\n",
    "We use a function from TextMan, a bespoke library that incorporates the text processing routines used in earlier notebooks."
   ]
  },
  {
   "cell_type": "code",
   "execution_count": 8,
   "metadata": {},
   "outputs": [],
   "source": [
    "tokens, vocab = tx.create_tokens_and_vocab(docs, src_col='doc_content')\n",
    "tokens['token_num'] = tokens.groupby(['doc_id']).cumcount()\n",
    "tokens = tokens.reset_index()[['doc_id','token_num','term_id']]\n",
    "tokens = tokens[tokens.term_id.isin(vocab[vocab.go].index)]\n",
    "tokens = tokens.set_index(['doc_id','token_num'])"
   ]
  },
  {
   "cell_type": "markdown",
   "metadata": {},
   "source": [
    "### We add the term strings for convenience"
   ]
  },
  {
   "cell_type": "code",
   "execution_count": 9,
   "metadata": {},
   "outputs": [],
   "source": [
    "tokens['term_str'] = tokens.term_id.map(vocab.term)"
   ]
  },
  {
   "cell_type": "code",
   "execution_count": 10,
   "metadata": {},
   "outputs": [
    {
     "data": {
      "text/html": [
       "<div>\n",
       "<style scoped>\n",
       "    .dataframe tbody tr th:only-of-type {\n",
       "        vertical-align: middle;\n",
       "    }\n",
       "\n",
       "    .dataframe tbody tr th {\n",
       "        vertical-align: top;\n",
       "    }\n",
       "\n",
       "    .dataframe thead th {\n",
       "        text-align: right;\n",
       "    }\n",
       "</style>\n",
       "<table border=\"1\" class=\"dataframe\">\n",
       "  <thead>\n",
       "    <tr style=\"text-align: right;\">\n",
       "      <th></th>\n",
       "      <th></th>\n",
       "      <th>term_id</th>\n",
       "      <th>term_str</th>\n",
       "    </tr>\n",
       "    <tr>\n",
       "      <th>doc_id</th>\n",
       "      <th>token_num</th>\n",
       "      <th></th>\n",
       "      <th></th>\n",
       "    </tr>\n",
       "  </thead>\n",
       "  <tbody>\n",
       "    <tr>\n",
       "      <th rowspan=\"5\" valign=\"top\">76209</th>\n",
       "      <th>0</th>\n",
       "      <td>4557</td>\n",
       "      <td>people</td>\n",
       "    </tr>\n",
       "    <tr>\n",
       "      <th>1</th>\n",
       "      <td>5848</td>\n",
       "      <td>sure</td>\n",
       "    </tr>\n",
       "    <tr>\n",
       "      <th>2</th>\n",
       "      <td>4713</td>\n",
       "      <td>posts</td>\n",
       "    </tr>\n",
       "    <tr>\n",
       "      <th>3</th>\n",
       "      <td>2671</td>\n",
       "      <td>forwarded</td>\n",
       "    </tr>\n",
       "    <tr>\n",
       "      <th>4</th>\n",
       "      <td>5882</td>\n",
       "      <td>system</td>\n",
       "    </tr>\n",
       "  </tbody>\n",
       "</table>\n",
       "</div>"
      ],
      "text/plain": [
       "                  term_id   term_str\n",
       "doc_id token_num                    \n",
       "76209  0             4557     people\n",
       "       1             5848       sure\n",
       "       2             4713      posts\n",
       "       3             2671  forwarded\n",
       "       4             5882     system"
      ]
     },
     "execution_count": 10,
     "metadata": {},
     "output_type": "execute_result"
    }
   ],
   "source": [
    "tokens.head()"
   ]
  },
  {
   "cell_type": "markdown",
   "metadata": {},
   "source": [
    "###  Remove redundant words\n",
    "\n",
    "We actually *don't* do this because it ruins performance!"
   ]
  },
  {
   "cell_type": "code",
   "execution_count": 11,
   "metadata": {},
   "outputs": [],
   "source": [
    "# tokens = tokens.reset_index().drop_duplicates(['doc_id','term_id']).set_index(['doc_id','token_num'])"
   ]
  },
  {
   "cell_type": "code",
   "execution_count": 12,
   "metadata": {},
   "outputs": [],
   "source": [
    "# tokens.head()"
   ]
  },
  {
   "cell_type": "markdown",
   "metadata": {
    "toc-hr-collapsed": true
   },
   "source": [
    "## Remove insignificant words\n",
    "\n",
    "We use SKlearn's TFIDF vectorizor to quicky get a TFIDF vector space, which we use only to filter the words in our corpus."
   ]
  },
  {
   "cell_type": "code",
   "execution_count": 13,
   "metadata": {},
   "outputs": [],
   "source": [
    "vectorizer = TfidfVectorizer(use_idf=1, stop_words='english', token_pattern=r'[A-Za-z][A-Za-z][A-Za-z]+')\n",
    "X = vectorizer.fit_transform(docs.doc_content.values.tolist())\n",
    "v = pd.DataFrame(vectorizer.get_feature_names(), columns=['term_str'])\n",
    "v['idf'] = vectorizer.idf_"
   ]
  },
  {
   "cell_type": "code",
   "execution_count": 14,
   "metadata": {},
   "outputs": [
    {
     "data": {
      "text/html": [
       "<div>\n",
       "<style scoped>\n",
       "    .dataframe tbody tr th:only-of-type {\n",
       "        vertical-align: middle;\n",
       "    }\n",
       "\n",
       "    .dataframe tbody tr th {\n",
       "        vertical-align: top;\n",
       "    }\n",
       "\n",
       "    .dataframe thead th {\n",
       "        text-align: right;\n",
       "    }\n",
       "</style>\n",
       "<table border=\"1\" class=\"dataframe\">\n",
       "  <thead>\n",
       "    <tr style=\"text-align: right;\">\n",
       "      <th></th>\n",
       "      <th>term_str</th>\n",
       "      <th>idf</th>\n",
       "    </tr>\n",
       "  </thead>\n",
       "  <tbody>\n",
       "    <tr>\n",
       "      <th>0</th>\n",
       "      <td>aaa</td>\n",
       "      <td>4.921973</td>\n",
       "    </tr>\n",
       "    <tr>\n",
       "      <th>3491</th>\n",
       "      <td>nicely</td>\n",
       "      <td>4.921973</td>\n",
       "    </tr>\n",
       "    <tr>\n",
       "      <th>3488</th>\n",
       "      <td>nhlpa</td>\n",
       "      <td>4.921973</td>\n",
       "    </tr>\n",
       "    <tr>\n",
       "      <th>3486</th>\n",
       "      <td>nga</td>\n",
       "      <td>4.921973</td>\n",
       "    </tr>\n",
       "    <tr>\n",
       "      <th>3484</th>\n",
       "      <td>newswriter</td>\n",
       "      <td>4.921973</td>\n",
       "    </tr>\n",
       "    <tr>\n",
       "      <th>3483</th>\n",
       "      <td>newsweek</td>\n",
       "      <td>4.921973</td>\n",
       "    </tr>\n",
       "    <tr>\n",
       "      <th>3481</th>\n",
       "      <td>newspaper</td>\n",
       "      <td>4.921973</td>\n",
       "    </tr>\n",
       "    <tr>\n",
       "      <th>3480</th>\n",
       "      <td>newsgroups</td>\n",
       "      <td>4.921973</td>\n",
       "    </tr>\n",
       "    <tr>\n",
       "      <th>3478</th>\n",
       "      <td>newsbytes</td>\n",
       "      <td>4.921973</td>\n",
       "    </tr>\n",
       "    <tr>\n",
       "      <th>3476</th>\n",
       "      <td>newly</td>\n",
       "      <td>4.921973</td>\n",
       "    </tr>\n",
       "    <tr>\n",
       "      <th>3474</th>\n",
       "      <td>neutron</td>\n",
       "      <td>4.921973</td>\n",
       "    </tr>\n",
       "    <tr>\n",
       "      <th>3473</th>\n",
       "      <td>networked</td>\n",
       "      <td>4.921973</td>\n",
       "    </tr>\n",
       "    <tr>\n",
       "      <th>3471</th>\n",
       "      <td>nettles</td>\n",
       "      <td>4.921973</td>\n",
       "    </tr>\n",
       "    <tr>\n",
       "      <th>3469</th>\n",
       "      <td>netmail</td>\n",
       "      <td>4.921973</td>\n",
       "    </tr>\n",
       "    <tr>\n",
       "      <th>3466</th>\n",
       "      <td>nesbitt</td>\n",
       "      <td>4.921973</td>\n",
       "    </tr>\n",
       "    <tr>\n",
       "      <th>3465</th>\n",
       "      <td>nerve</td>\n",
       "      <td>4.921973</td>\n",
       "    </tr>\n",
       "    <tr>\n",
       "      <th>3463</th>\n",
       "      <td>nemchinov</td>\n",
       "      <td>4.921973</td>\n",
       "    </tr>\n",
       "    <tr>\n",
       "      <th>3490</th>\n",
       "      <td>nicea</td>\n",
       "      <td>4.921973</td>\n",
       "    </tr>\n",
       "    <tr>\n",
       "      <th>3492</th>\n",
       "      <td>nicholls</td>\n",
       "      <td>4.921973</td>\n",
       "    </tr>\n",
       "    <tr>\n",
       "      <th>4045</th>\n",
       "      <td>prostitute</td>\n",
       "      <td>4.921973</td>\n",
       "    </tr>\n",
       "  </tbody>\n",
       "</table>\n",
       "</div>"
      ],
      "text/plain": [
       "        term_str       idf\n",
       "0            aaa  4.921973\n",
       "3491      nicely  4.921973\n",
       "3488       nhlpa  4.921973\n",
       "3486         nga  4.921973\n",
       "3484  newswriter  4.921973\n",
       "3483    newsweek  4.921973\n",
       "3481   newspaper  4.921973\n",
       "3480  newsgroups  4.921973\n",
       "3478   newsbytes  4.921973\n",
       "3476       newly  4.921973\n",
       "3474     neutron  4.921973\n",
       "3473   networked  4.921973\n",
       "3471     nettles  4.921973\n",
       "3469     netmail  4.921973\n",
       "3466     nesbitt  4.921973\n",
       "3465       nerve  4.921973\n",
       "3463   nemchinov  4.921973\n",
       "3490       nicea  4.921973\n",
       "3492    nicholls  4.921973\n",
       "4045  prostitute  4.921973"
      ]
     },
     "execution_count": 14,
     "metadata": {},
     "output_type": "execute_result"
    }
   ],
   "source": [
    "v.sort_values('idf', ascending=False).head(20)"
   ]
  },
  {
   "cell_type": "markdown",
   "metadata": {},
   "source": [
    "### We take a look at the distribution of significance"
   ]
  },
  {
   "cell_type": "code",
   "execution_count": 15,
   "metadata": {},
   "outputs": [
    {
     "data": {
      "text/plain": [
       "<matplotlib.axes._subplots.AxesSubplot at 0x1065948d0>"
      ]
     },
     "execution_count": 15,
     "metadata": {},
     "output_type": "execute_result"
    },
    {
     "data": {
      "image/png": "[encoded data removed]",
      "text/plain": [
       "<Figure size 432x288 with 1 Axes>"
      ]
     },
     "metadata": {
      "needs_background": "light"
     },
     "output_type": "display_data"
    }
   ],
   "source": [
    "v.idf.hist()"
   ]
  },
  {
   "cell_type": "markdown",
   "metadata": {},
   "source": [
    "### We take only the most significant words"
   ]
  },
  {
   "cell_type": "code",
   "execution_count": 16,
   "metadata": {},
   "outputs": [],
   "source": [
    "cutoff = 4.5\n",
    "v = v[v.idf > cutoff].sort_values('idf', ascending=False).sample(1000)\n",
    "my_v = v.term_str.tolist()"
   ]
  },
  {
   "cell_type": "code",
   "execution_count": 17,
   "metadata": {},
   "outputs": [],
   "source": [
    "# sorted(my_v)"
   ]
  },
  {
   "cell_type": "code",
   "execution_count": 18,
   "metadata": {},
   "outputs": [],
   "source": [
    "tokens = tokens[tokens.term_str.isin(my_v)]"
   ]
  },
  {
   "cell_type": "code",
   "execution_count": 19,
   "metadata": {},
   "outputs": [],
   "source": [
    "vocab = vocab[vocab.term.isin(my_v)]"
   ]
  },
  {
   "cell_type": "markdown",
   "metadata": {},
   "source": [
    "## Create topics table\n",
    "\n",
    "We will use this to collect information about topics, and in our sampling routine."
   ]
  },
  {
   "cell_type": "code",
   "execution_count": 20,
   "metadata": {},
   "outputs": [],
   "source": [
    "topics = pd.DataFrame(index=range(n_topics))\n",
    "topics.index.name = 'topic_id'"
   ]
  },
  {
   "cell_type": "markdown",
   "metadata": {
    "toc-hr-collapsed": true
   },
   "source": [
    "## Define functions"
   ]
  },
  {
   "cell_type": "markdown",
   "metadata": {},
   "source": [
    "### Randomly assign topics to tokens"
   ]
  },
  {
   "cell_type": "code",
   "execution_count": 21,
   "metadata": {},
   "outputs": [],
   "source": [
    "def init_topics(tokens):\n",
    "    tokens['topic_id'] = np.random.randint(0, n_topics, len(tokens))\n",
    "    return tokens"
   ]
  },
  {
   "cell_type": "code",
   "execution_count": 22,
   "metadata": {},
   "outputs": [],
   "source": [
    "# tokens = init_topics(tokens)"
   ]
  },
  {
   "cell_type": "code",
   "execution_count": 23,
   "metadata": {},
   "outputs": [],
   "source": [
    "# tokens.head()"
   ]
  },
  {
   "cell_type": "markdown",
   "metadata": {},
   "source": [
    "### Generate Count Matrices"
   ]
  },
  {
   "cell_type": "code",
   "execution_count": 24,
   "metadata": {},
   "outputs": [],
   "source": [
    "def get_DT(tokens):\n",
    "    return tokens.groupby(['doc_id','topic_id']).topic_id.count()\\\n",
    "        .unstack().fillna(0).astype('int')"
   ]
  },
  {
   "cell_type": "code",
   "execution_count": 25,
   "metadata": {},
   "outputs": [],
   "source": [
    "def get_WT(tokens):\n",
    "    return tokens.groupby(['topic_id','term_id']).term_id.count()\\\n",
    "        .unstack().fillna(0).astype('int').T"
   ]
  },
  {
   "cell_type": "code",
   "execution_count": 26,
   "metadata": {},
   "outputs": [],
   "source": [
    "def get_DTP(dt):\n",
    "    return (dt.T / dt.T.sum()).T"
   ]
  },
  {
   "cell_type": "code",
   "execution_count": 27,
   "metadata": {},
   "outputs": [],
   "source": [
    "def get_WTP(wt):\n",
    "    wtp = wt / wt.sum()\n",
    "    wtp['term_str'] = vocab.term\n",
    "    wtp = wtp.set_index('term_str')\n",
    "    return wtp"
   ]
  },
  {
   "cell_type": "code",
   "execution_count": 28,
   "metadata": {},
   "outputs": [],
   "source": [
    "def get_topic_seeds(wt):\n",
    "    seeds = pd.DataFrame([(t, wt[t].sort_values().idxmax()) for t in range(n_topics)], columns=['t','w'])\n",
    "    seeds = seeds.set_index('t')\n",
    "    seeds['term_str'] = seeds.w.map(vocab.term)\n",
    "    seeds = seeds.sort_values('term_str')\n",
    "    return seeds"
   ]
  },
  {
   "cell_type": "code",
   "execution_count": 29,
   "metadata": {},
   "outputs": [],
   "source": [
    "def get_doc_seeds(dt):\n",
    "    seeds = pd.DataFrame([(d, DT.loc[d].idxmax()) for d in DT.index], columns=['d','t'])\n",
    "    seeds = seeds.set_index('d')\n",
    "    return seeds"
   ]
  },
  {
   "cell_type": "code",
   "execution_count": 30,
   "metadata": {},
   "outputs": [],
   "source": [
    "def add_topic_info(topics, dt, wt, n_words = 7):\n",
    "    dtp = get_DTP(dt)\n",
    "    wtp = get_WTP(wt)\n",
    "    topics['top_words'] = ''\n",
    "    topics['top_words'] = topics.apply(lambda x: ' '.join(wtp[x.name].sort_values(ascending=False).head(n_words).index.values), 1)    \n",
    "    topics['df_max'] = topics.apply(lambda x: dtp[x.name].max(), 1)\n",
    "    topics['df_mean'] = topics.apply(lambda x: dtp[x.name].mean(), 1)\n",
    "    topics['df_sum'] = topics.apply(lambda x: dtp[x.name].sum(), 1)\n",
    "    topics['n_words'] = topics.apply(lambda x: wt[x.name].sum(), 1)\n",
    "    return topics"
   ]
  },
  {
   "cell_type": "markdown",
   "metadata": {},
   "source": [
    "### Print topics"
   ]
  },
  {
   "cell_type": "code",
   "execution_count": 31,
   "metadata": {},
   "outputs": [],
   "source": [
    "def plot_topics(wtp, n=5):\n",
    "    fig, axes = plt.subplots(nrows=n_topics, ncols=1, sharex=True)\n",
    "    for t in range(n_topics):\n",
    "        wtp[t].sort_values(ascending=True).tail(10).plot(kind='barh', ax=axes[t], figsize=(5,80))\n",
    "        axes[t].set_title('Topic {}'.format(t))"
   ]
  },
  {
   "cell_type": "markdown",
   "metadata": {},
   "source": [
    "## Use Collapsed Gibbs Sampling\n",
    "\n",
    "See [this blog](http://brooksandrew.github.io/simpleblog/articles/latent-dirichlet-allocation-under-the-hood/).\n",
    "\n",
    "Or, better, see [Griffiths 2002](http://citeseerx.ist.psu.edu/viewdoc/summary?doi=10.1.1.138.3760)."
   ]
  },
  {
   "cell_type": "markdown",
   "metadata": {},
   "source": [
    "### Define row function"
   ]
  },
  {
   "cell_type": "code",
   "execution_count": 32,
   "metadata": {},
   "outputs": [],
   "source": [
    "# here is where the Gibbs sampling\n",
    "def get_new_topic(row):\n",
    "    \n",
    "    d = row.name[0] # doc_id\n",
    "    k = row.name[1] # token_num (not used)\n",
    "    z = row.topic_id\n",
    "    w = row.term_id\n",
    "    \n",
    "    DT.at[d,z] -= 1\n",
    "    WT.at[w,z] -= 1\n",
    "    \n",
    "    p_z = DT.loc[d] * (WT.loc[w] / WT.sum())\n",
    "    z_weights = p_z / p_z.sum()\n",
    "\n",
    "    z1 = topics.sample(weights=z_weights).index.values[0]\n",
    "\n",
    "    DT.at[d,z1] += 1\n",
    "    WT.at[w,z1] += 1\n",
    "    \n",
    "    return z1"
   ]
  },
  {
   "cell_type": "markdown",
   "metadata": {},
   "source": [
    "### Generate model"
   ]
  },
  {
   "cell_type": "code",
   "execution_count": 33,
   "metadata": {},
   "outputs": [],
   "source": [
    "tokens = init_topics(tokens)\n",
    "DT = get_DT(tokens) + alpha\n",
    "WT = get_WT(tokens) + beta\n",
    "topic_seeds = get_topic_seeds(WT)\n",
    "doc_seeds = get_doc_seeds(WT)"
   ]
  },
  {
   "cell_type": "code",
   "execution_count": 34,
   "metadata": {},
   "outputs": [
    {
     "data": {
      "text/html": [
       "<div>\n",
       "<style scoped>\n",
       "    .dataframe tbody tr th:only-of-type {\n",
       "        vertical-align: middle;\n",
       "    }\n",
       "\n",
       "    .dataframe tbody tr th {\n",
       "        vertical-align: top;\n",
       "    }\n",
       "\n",
       "    .dataframe thead th {\n",
       "        text-align: right;\n",
       "    }\n",
       "</style>\n",
       "<table border=\"1\" class=\"dataframe\">\n",
       "  <thead>\n",
       "    <tr style=\"text-align: right;\">\n",
       "      <th></th>\n",
       "      <th>w</th>\n",
       "      <th>term_str</th>\n",
       "    </tr>\n",
       "    <tr>\n",
       "      <th>t</th>\n",
       "      <th></th>\n",
       "      <th></th>\n",
       "    </tr>\n",
       "  </thead>\n",
       "  <tbody>\n",
       "    <tr>\n",
       "      <th>7</th>\n",
       "      <td>1131</td>\n",
       "      <td>biggest</td>\n",
       "    </tr>\n",
       "    <tr>\n",
       "      <th>14</th>\n",
       "      <td>1436</td>\n",
       "      <td>cdi</td>\n",
       "    </tr>\n",
       "    <tr>\n",
       "      <th>0</th>\n",
       "      <td>1725</td>\n",
       "      <td>constitution</td>\n",
       "    </tr>\n",
       "    <tr>\n",
       "      <th>5</th>\n",
       "      <td>1725</td>\n",
       "      <td>constitution</td>\n",
       "    </tr>\n",
       "    <tr>\n",
       "      <th>12</th>\n",
       "      <td>1835</td>\n",
       "      <td>criminal</td>\n",
       "    </tr>\n",
       "    <tr>\n",
       "      <th>8</th>\n",
       "      <td>2468</td>\n",
       "      <td>existence</td>\n",
       "    </tr>\n",
       "    <tr>\n",
       "      <th>1</th>\n",
       "      <td>3787</td>\n",
       "      <td>lule</td>\n",
       "    </tr>\n",
       "    <tr>\n",
       "      <th>4</th>\n",
       "      <td>3960</td>\n",
       "      <td>memory</td>\n",
       "    </tr>\n",
       "    <tr>\n",
       "      <th>11</th>\n",
       "      <td>4310</td>\n",
       "      <td>nyr</td>\n",
       "    </tr>\n",
       "    <tr>\n",
       "      <th>6</th>\n",
       "      <td>5366</td>\n",
       "      <td>sdpa</td>\n",
       "    </tr>\n",
       "    <tr>\n",
       "      <th>10</th>\n",
       "      <td>5542</td>\n",
       "      <td>situations</td>\n",
       "    </tr>\n",
       "    <tr>\n",
       "      <th>13</th>\n",
       "      <td>5822</td>\n",
       "      <td>sui</td>\n",
       "    </tr>\n",
       "    <tr>\n",
       "      <th>2</th>\n",
       "      <td>6129</td>\n",
       "      <td>trinitarianism</td>\n",
       "    </tr>\n",
       "    <tr>\n",
       "      <th>9</th>\n",
       "      <td>6330</td>\n",
       "      <td>van</td>\n",
       "    </tr>\n",
       "    <tr>\n",
       "      <th>3</th>\n",
       "      <td>6590</td>\n",
       "      <td>wpg</td>\n",
       "    </tr>\n",
       "  </tbody>\n",
       "</table>\n",
       "</div>"
      ],
      "text/plain": [
       "       w        term_str\n",
       "t                       \n",
       "7   1131         biggest\n",
       "14  1436             cdi\n",
       "0   1725    constitution\n",
       "5   1725    constitution\n",
       "12  1835        criminal\n",
       "8   2468       existence\n",
       "1   3787            lule\n",
       "4   3960          memory\n",
       "11  4310             nyr\n",
       "6   5366            sdpa\n",
       "10  5542      situations\n",
       "13  5822             sui\n",
       "2   6129  trinitarianism\n",
       "9   6330             van\n",
       "3   6590             wpg"
      ]
     },
     "execution_count": 34,
     "metadata": {},
     "output_type": "execute_result"
    }
   ],
   "source": [
    "topic_seeds"
   ]
  },
  {
   "cell_type": "code",
   "execution_count": 35,
   "metadata": {},
   "outputs": [
    {
     "data": {
      "text/plain": [
       "1     9\n",
       "4     7\n",
       "2     6\n",
       "5     5\n",
       "11    4\n",
       "10    4\n",
       "6     4\n",
       "8     3\n",
       "3     3\n",
       "0     3\n",
       "14    2\n",
       "9     2\n",
       "7     2\n",
       "13    1\n",
       "12    1\n",
       "Name: t, dtype: int64"
      ]
     },
     "execution_count": 35,
     "metadata": {},
     "output_type": "execute_result"
    }
   ],
   "source": [
    "doc_seeds.t.value_counts()"
   ]
  },
  {
   "cell_type": "code",
   "execution_count": 36,
   "metadata": {},
   "outputs": [
    {
     "name": "stdout",
     "output_type": "stream",
     "text": [
      "0 1 2 3 4 5 6 7 8 9 10 11 12 13 14 15 16 17 18 19 20 21 22 23 24 25 26 27 28 29 30 31 32 33 34 35 36 37 38 39 40 41 42 43 44 45 46 47 48 49 50 51 52 53 54 55 56 57 58 59 60 61 62 63 64 65 66 67 68 69 70 71 72 73 74 75 76 77 78 79 80 81 82 83 84 85 86 87 88 89 90 91 92 93 94 95 96 97 98 99 Done\n"
     ]
    }
   ],
   "source": [
    "for i in range(n_iters):\n",
    "    print(i, end=' ')\n",
    "    tokens['topic_id'] = tokens.apply(get_new_topic, 1)\n",
    "print('Done')"
   ]
  },
  {
   "cell_type": "code",
   "execution_count": 37,
   "metadata": {},
   "outputs": [],
   "source": [
    "topics = add_topic_info(topics, DT, WT)"
   ]
  },
  {
   "cell_type": "code",
   "execution_count": 38,
   "metadata": {},
   "outputs": [
    {
     "data": {
      "text/plain": [
       "topic_id\n",
       "0     yankees greig messiah cold situations bayonett...\n",
       "1     survivors reactions istanbul journalists sysad...\n",
       "2       easier ifas eternity cold shoot editor russotto\n",
       "3     rickert trinitarianism ascribed origen identic...\n",
       "4           fielding pens bosio boone hovig body memory\n",
       "5     constitution papers higher principles authorit...\n",
       "6     leadoff runner russotto floppies universal sol...\n",
       "7     rotation signature situations break messiah sc...\n",
       "8           sysadmin editor sui eclipse axed blame misc\n",
       "9     masses bayonetted schmidling yankees slot balt...\n",
       "10             nyr van wpg lule predict boone covington\n",
       "11        sdpa karabag criminal columbia hovig uxa lars\n",
       "12    cdi baltimore female sites journalists manufac...\n",
       "13    journalists karabag missionary pinch survivors...\n",
       "14    existence carter eternity hernlem soc memory p...\n",
       "Name: top_words, dtype: object"
      ]
     },
     "execution_count": 38,
     "metadata": {},
     "output_type": "execute_result"
    }
   ],
   "source": [
    "topics.top_words"
   ]
  },
  {
   "cell_type": "code",
   "execution_count": 39,
   "metadata": {},
   "outputs": [
    {
     "data": {
      "image/png": "[encoded data removed]",
      "text/plain": [
       "<Figure size 360x5760 with 15 Axes>"
      ]
     },
     "metadata": {
      "needs_background": "light"
     },
     "output_type": "display_data"
    }
   ],
   "source": [
    "plot_topics(get_WTP(WT), 7)"
   ]
  },
  {
   "cell_type": "code",
   "execution_count": null,
   "metadata": {},
   "outputs": [],
   "source": []
  }
 ],
 "metadata": {
  "hide_input": false,
  "kernelspec": {
   "display_name": "Python 3",
   "language": "python",
   "name": "python3"
  },
  "language_info": {
   "codemirror_mode": {
    "name": "ipython",
    "version": 3
   },
   "file_extension": ".py",
   "mimetype": "text/x-python",
   "name": "python",
   "nbconvert_exporter": "python",
   "pygments_lexer": "ipython3",
   "version": "3.7.1"
  },
  "toc": {
   "nav_menu": {},
   "number_sections": true,
   "sideBar": true,
   "skip_h1_title": false,
   "toc_cell": false,
   "toc_position": {
    "height": "789px",
    "left": "0px",
    "right": "1186px",
    "top": "111px",
    "width": "254px"
   },
   "toc_section_display": "block",
   "toc_window_display": true
  },
  "varInspector": {
   "cols": {
    "lenName": 16,
    "lenType": 16,
    "lenVar": 40
   },
   "kernels_config": {
    "python": {
     "delete_cmd_postfix": "",
     "delete_cmd_prefix": "del ",
     "library": "var_list.py",
     "varRefreshCmd": "print(var_dic_list())"
    },
    "r": {
     "delete_cmd_postfix": ") ",
     "delete_cmd_prefix": "rm(",
     "library": "var_list.r",
     "varRefreshCmd": "cat(var_dic_list()) "
    }
   },
   "types_to_exclude": [
    "module",
    "function",
    "builtin_function_or_method",
    "instance",
    "_Feature"
   ],
   "window_display": false
  }
 },
 "nbformat": 4,
 "nbformat_minor": 2
}
